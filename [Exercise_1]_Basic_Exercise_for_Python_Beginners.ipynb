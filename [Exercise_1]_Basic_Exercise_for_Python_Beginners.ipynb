{
  "nbformat": 4,
  "nbformat_minor": 0,
  "metadata": {
    "colab": {
      "name": "[Exercise 1] Basic Exercise for Python Beginners.ipynb",
      "provenance": [],
      "collapsed_sections": [],
      "include_colab_link": true
    },
    "kernelspec": {
      "name": "python3",
      "display_name": "Python 3"
    }
  },
  "cells": [
    {
      "cell_type": "markdown",
      "metadata": {
        "id": "view-in-github",
        "colab_type": "text"
      },
      "source": [
        "<a href=\"https://colab.research.google.com/github/JTing-L/Artifical_Intelligent_Engineering_Application/blob/main/%5BExercise_1%5D_Basic_Exercise_for_Python_Beginners.ipynb\" target=\"_parent\"><img src=\"https://colab.research.google.com/assets/colab-badge.svg\" alt=\"Open In Colab\"/></a>"
      ]
    },
    {
      "cell_type": "markdown",
      "metadata": {
        "id": "Na0_QjevL_F5"
      },
      "source": [
        "# [Exercise 1] Python 基礎練習\n",
        "\n",
        "歡迎來到我們課堂的第一次練習！希望透過這次的練習，可以讓你快速的熟悉 Python，讓接下來學習機器學習與深度學習的路更加順利！\n",
        "\n",
        "關於 colab 的教學，可以先參考 [官方介紹文件](https://colab.research.google.com/notebooks/intro.ipynb)，裡頭有詳細說明各種 colab 的用法。"
      ]
    },
    {
      "cell_type": "markdown",
      "metadata": {
        "id": "xGEuxLe0YRAm"
      },
      "source": [
        "## 練習題的編寫規則\n",
        "\n",
        "基本上每個練習題，都會有題目的說明、程式碼區塊與預期的答案等。請注意的是程式碼區塊已經有先設定好的變數名稱、順序等，因此除了有出現類似 `# PLEASE MODIFY` 的區塊之外，**請盡量不要更動裡面的內容**，避免得到錯的結果。"
      ]
    },
    {
      "cell_type": "markdown",
      "metadata": {
        "id": "e75HmxuUENW8"
      },
      "source": [
        "## 練習題（一）：健康檢查\n",
        "\n",
        "我們有一筆關於 10 個人做健康檢查的結果，包含體重（`weights`，單位為公斤）以及身高（`heights`，單位為公分）。今天想要從這些資料中得到以下訊息：\n",
        "- 第一個人的體重（`first_weight`）\n",
        "- 第一個人的身高（`first_height`）\n",
        "- 最後一個人的體重（`last_weight`）\n",
        "- 最後一個人的身高（`last_height`）\n",
        "- 最後一個人的 BMI 值（`last_bmi_float`）\n",
        "    - BMI 計算方式：體重（公斤） / 身高（公尺）的平方\n",
        "- 最後一個人的 BMI 值，但是把小數位無條件捨去（`last_bmi_int`）\n",
        "- 第五個人是否比第二個人身高還高？（`fifth_higher_second`）\n",
        "\n",
        "[提示] 你可能需要了解以下功能的運作方式：\n",
        "- *list* 的 *index*\n",
        "- 基本的數值運算\n",
        "- 型別轉換，運用 *int()* 將 *floating point* 轉成 *int*\n",
        "- 比較符號 *>* 的使用"
      ]
    },
    {
      "cell_type": "code",
      "metadata": {
        "id": "JJA285HdE5sV"
      },
      "source": [
        "weights = [76, 51, 72, 67, 58, 51, 71, 54, 55, 53]\n",
        "heights = [154, 169, 151, 161, 154, 170, 172, 173, 178, 168]"
      ],
      "execution_count": null,
      "outputs": []
    },
    {
      "cell_type": "code",
      "metadata": {
        "id": "LnvBE--eGT4R"
      },
      "source": [
        "# Calculate the statistic information about weights and heights.\n",
        "first_weight = weights[0]\n",
        "first_height = heights[0]\n",
        "last_weight =  weights[-1] # PLEASE MODIFY\n",
        "last_height =  heights[-1] # PLEASE MODIFY\n",
        "last_bmi_float = last_weight/((last_height/100)**2) # PLEASE MODIFY\n",
        "last_bmi_int = int(last_bmi_float) # PLEASE MODIFY\n",
        "fifth_higher_second = heights[4] > heights[1] # PLEASE MODIFY"
      ],
      "execution_count": null,
      "outputs": []
    },
    {
      "cell_type": "code",
      "metadata": {
        "id": "MgBdbc2mHpDt",
        "colab": {
          "base_uri": "https://localhost:8080/"
        },
        "outputId": "c0b2f8d7-160f-400f-a239-61f96f63449b"
      },
      "source": [
        "print(\"Weight of First Person =\", first_weight) # Expected output: 76\n",
        "print(\"Height of First Person =\", first_height) # Expected output: 154\n",
        "print(\"Weight of Last Person =\", last_weight) # Expected output: 53\n",
        "print(\"Height of Last Person =\", last_height) # Expected output: 168\n",
        "print(\"BMI of Last Person (Floating Point) =\", last_bmi_float) # Expected output: 18.778344671201815\n",
        "print(\"BMI of Last Person (Integer) =\", last_bmi_int) # Expected output: 18\n",
        "print(\"Is Fifth person higher than second person?\", fifth_higher_second) # Expected output: False"
      ],
      "execution_count": null,
      "outputs": [
        {
          "output_type": "stream",
          "text": [
            "Weight of First Person = 76\n",
            "Height of First Person = 154\n",
            "Weight of Last Person = 53\n",
            "Height of Last Person = 168\n",
            "BMI of Last Person (Floating Point) = 18.77834467120182\n",
            "BMI of Last Person (Integer) = 18\n",
            "Is Fifth person higher than second person? False\n"
          ],
          "name": "stdout"
        }
      ]
    },
    {
      "cell_type": "markdown",
      "metadata": {
        "id": "f2xYHcJvPCZn"
      },
      "source": [
        "## 練習題（二）：溫度資訊統計\n",
        "\n",
        "我們有一組某個地方的溫度觀測資料：`temperatures`，為 1948 年至 2016 年每月的最高溫度。請試著從這些資料中得到一些基本資訊，包含：\n",
        "- 最高溫（`temperature_highest`）\n",
        "- 最低溫（`temperature_lowest`）\n",
        "- 平均溫度（`temperature_mean`）\n",
        "- 溫度中位數（`temperature_median`）\n",
        "- 有多少個不重複的溫度值（`num_uniques`）\n",
        "\n",
        "[提示] 你可能會需要用到以下跟 *list* 與 *set* 相關的 function：\n",
        "- *max()*\n",
        "- *min()*\n",
        "- *sum()*\n",
        "- *len()*\n",
        "- *sort()*"
      ]
    },
    {
      "cell_type": "code",
      "metadata": {
        "id": "K9aVON94LnKO"
      },
      "source": [
        "temperatures = [8.9, 7.9, 14.2, 15.4, 18.1, 19.1, 21.7, 20.8, 19.6, 14.9, 10.8, 8.8, 8.5, 10.4, 9.3, 16.2, 17.1, 22.0, 25.1, 23.9, 22.8, 17.0, 10.2, 9.2, 7.1, 9.9, 12.3, 12.9, 17.2, 23.6, 21.6, 21.9, 17.6, 14.0, 9.3, 3.8, 7.3, 7.0, 8.4, 12.3, 15.0, 20.5, 23.0, 20.2, 19.2, 14.6, 11.8, 8.9, 6.2, 6.7, 10.6, 15.6, 19.6, 20.9, 23.3, 21.6, 16.4, 13.2, 7.5, 5.8, 5.6, 7.5, 11.1, 13.1, 18.7, 19.8, 21.0, 22.6, 19.5, 14.7, 11.3, 10.0, 5.9, 6.1, 10.4, 13.2, 16.8, 18.6, 19.2, 19.8, 18.0, 16.2, 11.2, 9.7, 5.6, 5.0, 7.9, 15.2, 15.5, 20.0, 24.4, 24.3, 19.9, 13.5, 10.7, 9.5, 7.0, 2.9, 11.0, 12.1, 19.1, 18.5, 20.9, 18.8, 19.2, 13.8, 9.3, 8.2, 8.7, 9.0, 13.9, 14.2, 16.2, 23.6, 22.5, 21.1, 17.6, 15.5, 9.4, 7.6, 6.8, 8.9, 8.1, 12.3, 17.3, 19.4, 21.7, 20.8, 20.0, 14.9, 9.7, 8.0, 5.7, 7.4, 11.9, 14.2, 18.7, 22.1, 24.7, 24.2, 22.7, 17.8, 10.8, 9.3, 6.9, 7.9, 10.2, 14.3, 18.4, 22.1, 20.1, 20.3, 18.5, 14.2, 11.2, 6.9, 6.9, 10.3, 13.9, 15.0, 16.8, 21.7, 22.1, 21.7, 20.9, 15.6, 9.9, 6.8, 7.9, 7.6, 7.4, 12.7, 15.0, 20.4, 20.6, 20.0, 17.8, 15.7, 9.1, 5.0, 0.8, 2.8, 10.7, 13.6, 16.0, 20.8, 21.1, 19.8, 18.0, 14.8, 11.8, 5.4, 5.8, 7.6, 7.6, 12.8, 19.6, 19.3, 22.8, 22.3, 21.1, 13.7, 11.2, 7.1, 6.6, 5.9, 10.5, 13.4, 16.8, 19.7, 19.3, 20.8, 17.4, 16.2, 8.4, 8.4, 5.3, 9.3, 10.9, 12.2, 17.0, 21.8, 20.1, 20.6, 19.6, 14.7, 8.8, 9.3, 7.3, 9.3, 11.6, 12.5, 15.6, 20.1, 23.5, 21.5, 18.5, 15.0, 9.7, 7.2, 7.2, 5.7, 11.1, 13.7, 15.4, 20.6, 20.7, 20.2, 18.8, 16.5, 9.5, 5.4, 8.9, 4.9, 8.0, 13.6, 17.1, 20.6, 23.9, 21.8, 19.6, 18.2, 9.6, 6.1, 7.1, 7.2, 8.1, 11.4, 19.2, 23.6, 21.3, 22.3, 20.3, 15.7, 11.9, 7.0, 7.8, 8.6, 9.1, 12.2, 18.1, 17.8, 24.1, 21.3, 20.7, 17.2, 10.4, 9.3, 6.9, 7.9, 12.4, 12.9, 16.0, 17.5, 22.3, 21.8, 17.3, 15.6, 9.9, 9.4, 7.3, 8.1, 11.5, 12.5, 16.9, 21.9, 21.4, 23.7, 20.7, 13.9, 10.3, 8.6, 9.6, 9.2, 10.3, 14.0, 17.0, 20.1, 20.9, 21.5, 17.5, 11.0, 10.6, 11.0, 10.3, 9.3, 8.4, 13.3, 15.1, 21.8, 24.1, 25.9, 19.5, 14.4, 10.1, 7.6, 8.8, 7.8, 9.5, 13.7, 19.3, 25.5, 26.6, 25.1, 19.0, 14.9, 9.9, 5.6, 6.1, 9.6, 11.2, 12.2, 16.4, 17.4, 22.4, 20.3, 18.0, 16.3, 10.4, 9.2, 6.7, 6.2, 11.3, 10.7, 17.2, 19.7, 20.5, 20.7, 20.1, 17.1, 12.6, 7.8, 3.8, 4.5, 9.2, 12.7, 15.9, 19.0, 22.5, 21.0, 19.6, 16.4, 10.8, 9.2, 6.0, 9.9, 9.0, 14.0, 17.3, 19.8, 19.7, 21.9, 20.1, 14.0, 9.3, 8.9, 8.1, 7.1, 11.8, 12.9, 16.1, 18.5, 22.0, 22.8, 20.3, 12.9, 11.5, 4.4, 6.9, 8.4, 11.1, 14.3, 18.0, 21.5, 22.7, 22.2, 20.8, 14.1, 11.4, 8.2, 10.0, 5.5, 10.8, 12.4, 15.6, 20.8, 27.6, 24.5, 19.3, 15.1, 11.3, 9.2, 8.0, 7.4, 8.9, 14.6, 14.9, 21.3, 24.2, 24.4, 18.6, 15.8, 12.2, 8.7, 4.1, 6.3, 9.4, 14.0, 16.4, 18.5, 22.9, 20.3, 20.6, 16.1, 8.1, 10.0, 7.2, 1.7, 10.1, 10.9, 16.3, 21.8, 22.6, 20.0, 17.4, 16.4, 12.1, 9.7, 3.6, 7.7, 8.5, 15.8, 16.3, 18.6, 21.8, 21.8, 19.3, 15.0, 9.8, 8.9, 8.8, 8.7, 10.7, 13.5, 18.0, 19.7, 20.0, 21.8, 18.8, 15.5, 9.9, 10.4, 9.5, 10.2, 12.9, 11.5, 21.0, 22.1, 25.8, 24.2, 20.7, 17.1, 10.9, 9.4, 10.2, 11.7, 13.6, 14.6, 20.5, 19.5, 24.7, 26.0, 19.7, 16.9, 10.7, 7.6, 7.3, 5.4, 12.5, 13.1, 15.7, 17.8, 23.2, 24.1, 21.4, 14.6, 10.6, 8.3, 7.5, 9.5, 11.8, 14.0, 21.0, 22.5, 22.5, 21.7, 18.9, 12.5, 12.0, 7.8, 10.3, 7.2, 11.8, 14.6, 18.0, 21.8, 21.6, 21.6, 17.5, 13.0, 8.8, 9.2, 9.3, 7.7, 12.3, 13.3, 16.0, 21.5, 26.2, 23.0, 17.8, 15.4, 13.6, 10.7, 8.9, 10.7, 11.2, 15.0, 19.0, 20.7, 26.3, 27.0, 19.2, 18.3, 12.0, 5.8, 7.2, 6.8, 8.6, 14.3, 15.1, 22.8, 24.2, 23.1, 19.2, 16.6, 10.5, 6.2, 5.5, 10.8, 13.8, 15.6, 18.7, 20.2, 23.5, 25.8, 20.9, 15.9, 12.5, 9.5, 9.2, 11.6, 12.1, 12.7, 19.6, 19.9, 21.4, 23.5, 20.4, 14.7, 9.6, 9.7, 9.4, 8.8, 12.2, 14.9, 19.1, 20.3, 24.9, 22.8, 21.3, 15.6, 11.3, 8.7, 8.6, 10.4, 12.1, 12.9, 18.0, 21.0, 21.0, 23.2, 20.1, 14.7, 11.0, 9.0, 7.1, 9.2, 9.5, 12.8, 18.8, 20.8, 24.3, 23.5, 18.1, 17.6, 11.3, 7.3, 9.5, 11.3, 12.4, 15.7, 17.3, 20.1, 22.3, 23.3, 20.3, 15.3, 12.4, 9.0, 8.0, 8.4, 13.6, 15.7, 18.2, 23.3, 24.2, 26.4, 21.9, 14.5, 12.6, 8.8, 8.8, 8.7, 10.8, 14.9, 18.2, 22.1, 22.7, 23.8, 20.8, 15.3, 11.2, 8.8, 9.5, 7.3, 11.5, 14.6, 17.7, 22.8, 23.3, 23.2, 21.4, 17.8, 10.7, 8.2, 7.6, 7.2, 9.4, 14.1, 18.0, 23.7, 28.2, 22.2, 22.7, 17.8, 12.7, 9.7, 10.5, 9.9, 12.5, 18.9, 17.9, 21.2, 21.4, 21.5, 19.9, 15.4, 11.4, 8.9, 10.4, 11.0, 10.6, 13.7, 19.8, 20.8, 22.8, 21.5, 18.5, 15.0, 10.7, 7.3, 6.8, 7.8, 12.9, 16.1, 19.1, 22.4, 23.0, 23.9, 20.5, 16.3, 12.6, 7.0, 4.5, 6.9, 11.1, 15.8, 17.3, 23.5, 25.0, 21.6, 19.4, 15.2, 9.1, 3.9, 7.4, 10.2, 12.3, 19.7, 19.4, 20.7, 21.7, 21.8, 21.3, 18.1, 13.6, 9.9, 9.8, 8.0, 14.7, 13.3, 18.2, 19.4, 21.3, 23.5, 20.0, 14.2, 11.0, 9.0, 6.5, 6.7, 6.9, 13.5, 16.4, 20.3, 27.0, 24.3, 19.7, 17.0, 10.4, 10.2, 10.0, 10.6, 14.1, 16.1, 18.0, 22.1, 25.8, 21.7, 21.5, 17.6, 12.5, 9.2, 8.8, 8.0, 11.6, 16.3, 17.6, 22.2, 23.7, 22.2, 18.6, 15.8, 13.4, 13.7, 9.5, 9.4, 10.7, 13.5, 19.0, 20.7, 24.0, 24.7, 22.4, 15.9, 10.5]"
      ],
      "execution_count": null,
      "outputs": []
    },
    {
      "cell_type": "code",
      "metadata": {
        "id": "uvZQG-pxTNnm"
      },
      "source": [
        "import numpy as np\n",
        "# Calculate the statistic information about temperatures.\n",
        "temperature_highest = max(temperatures)\n",
        "temperature_lowest = min(temperatures) # PLEASE MODIFY\n",
        "temperature_mean = sum(temperatures)/len(temperatures) # PLEASE MODIFY\n",
        "temperature_median = np.median(temperatures) # PLEASE MODIFY\n",
        "num_uniques = len(np.unique(temperatures)) # PLEASE MODIFY"
      ],
      "execution_count": null,
      "outputs": []
    },
    {
      "cell_type": "code",
      "metadata": {
        "id": "l5Cbq5VFTbnK",
        "colab": {
          "base_uri": "https://localhost:8080/"
        },
        "outputId": "f12dcdc7-5a44-4426-d297-5bd982aba0ca"
      },
      "source": [
        "print(\"Highest Temperature =\", temperature_highest) # Expected output: 28.2\n",
        "print(\"Lowest Temperature =\", temperature_lowest) # Expected output: 0.8\n",
        "print(\"Mean of Temperatures =\", temperature_mean) # Expected output: 14.848309178743966\n",
        "print(\"Median of Temperatures =\", temperature_median) # Expected output: 14.7\n",
        "print(\"Number of Unique Temperatures =\", num_uniques) # Expected output: 217"
      ],
      "execution_count": null,
      "outputs": [
        {
          "output_type": "stream",
          "text": [
            "Highest Temperature = 28.2\n",
            "Lowest Temperature = 0.8\n",
            "Mean of Temperatures = 14.85392986698912\n",
            "Median of Temperatures = 14.7\n",
            "Number of Unique Temperatures = 217\n"
          ],
          "name": "stdout"
        }
      ]
    },
    {
      "cell_type": "markdown",
      "metadata": {
        "id": "5hNK0uCKbc8c"
      },
      "source": [
        "## 練習題（三）：文章單字統計\n",
        "\n",
        "我們有一篇取自[白鯨記](https://en.wikipedia.org/wiki/Moby-Dick)小說的英文文章片段：`article`。請試著從這篇文章片段取出一些關於英文單字（**不分大小寫**）的資訊，包含：\n",
        "- 出現最多次的單字為何？（`most_freq_word`）\n",
        "- 出現最多次的單字的次數為多少？（`most_freq_num`）\n",
        "- \"nothing\" 出現的的次數為多少？（`nothing_freq`）\n",
        "- 出現 5 次的單字有哪些？（`freq_five_words`）\n",
        "\n",
        "[提示] 你可能要了解以下幾個功能的運作方式：\n",
        "- *str* 相關的 method，例如：*replace()*, *lower()*, *split()*\n",
        "- *dict* 的基本觀念，以及相關的 method，例如：*items()*\n",
        "- *for* 迴圈的概念，以及 *tuple unpacking*\n",
        "- *if* 以及 *condition* 的概念"
      ]
    },
    {
      "cell_type": "code",
      "metadata": {
        "id": "7zbuoVwJb_84",
        "colab": {
          "base_uri": "https://localhost:8080/"
        },
        "outputId": "0ffd4043-354d-45fc-9c00-a98e16281f51"
      },
      "source": [
        "article = \\\n",
        "    \"Call me Ishmael. Some years ago, never mind how long precisely,\\n\" \\\n",
        "    \"having little or no money in my purse, and nothing particular\\n\" \\\n",
        "    \"to interest me on shore, I thought I would sail about a little\\n\" \\\n",
        "    \"and see the watery part of the world. It is a way I have\\n\" \\\n",
        "    \"of driving off the spleen and regulating the circulation.\\n\" \\\n",
        "    \"Whenever I find myself growing grim about the mouth.\\n\" \\\n",
        "    \"whenever it is a damp, drizzly November in my soul. whenever I\\n\" \\\n",
        "    \"find myself involuntarily pausing before coffin warehouses,\\n\" \\\n",
        "    \"and bringing up the rear of every funeral I meet.\\n\" \\\n",
        "    \"and especially whenever my hypos get such an upper hand of me,\\n\" \\\n",
        "    \"that it requires a strong moral principle to prevent me from\\n\" \\\n",
        "    \"deliberately stepping into the street, and methodically knocking\\n\" \\\n",
        "    \"hats of people off, then, I account it high time to get to sea\\n\" \\\n",
        "    \"as soon as I can. This is my substitute for pistol and ball.\\n\" \\\n",
        "    \"With a philosophical flourish Cato throws himself upon his sword.\\n\" \\\n",
        "    \"I quietly take to the ship. There is nothing surprising in this.\\n\" \\\n",
        "    \"If they but knew it, almost all men in their degree, some time\\n\" \\\n",
        "    \"or other, cherish very nearly the same feelings towards\\n\" \\\n",
        "    \"the ocean with me.\\n\" \\\n",
        "    \"There now is your insular city of the Manhattoes, belted round by wharves\\n\" \\\n",
        "    \"as Indian isles by coral reefs, commerce surrounds it with her surf.\\n\" \\\n",
        "    \"Right and left, the streets take you waterward. Its extreme downtown\\n\" \\\n",
        "    \"is the battery, where that noble mole is washed by waves, and cooled\\n\" \\\n",
        "    \"by breezes, which a few hours previous were out of sight of land.\\n\" \\\n",
        "    \"Look at the crowds of water-gazers there.\"\n",
        "\n",
        "print(article)"
      ],
      "execution_count": null,
      "outputs": [
        {
          "output_type": "stream",
          "text": [
            "Call me Ishmael. Some years ago, never mind how long precisely,\n",
            "having little or no money in my purse, and nothing particular\n",
            "to interest me on shore, I thought I would sail about a little\n",
            "and see the watery part of the world. It is a way I have\n",
            "of driving off the spleen and regulating the circulation.\n",
            "Whenever I find myself growing grim about the mouth.\n",
            "whenever it is a damp, drizzly November in my soul. whenever I\n",
            "find myself involuntarily pausing before coffin warehouses,\n",
            "and bringing up the rear of every funeral I meet.\n",
            "and especially whenever my hypos get such an upper hand of me,\n",
            "that it requires a strong moral principle to prevent me from\n",
            "deliberately stepping into the street, and methodically knocking\n",
            "hats of people off, then, I account it high time to get to sea\n",
            "as soon as I can. This is my substitute for pistol and ball.\n",
            "With a philosophical flourish Cato throws himself upon his sword.\n",
            "I quietly take to the ship. There is nothing surprising in this.\n",
            "If they but knew it, almost all men in their degree, some time\n",
            "or other, cherish very nearly the same feelings towards\n",
            "the ocean with me.\n",
            "There now is your insular city of the Manhattoes, belted round by wharves\n",
            "as Indian isles by coral reefs, commerce surrounds it with her surf.\n",
            "Right and left, the streets take you waterward. Its extreme downtown\n",
            "is the battery, where that noble mole is washed by waves, and cooled\n",
            "by breezes, which a few hours previous were out of sight of land.\n",
            "Look at the crowds of water-gazers there.\n"
          ],
          "name": "stdout"
        }
      ]
    },
    {
      "cell_type": "code",
      "metadata": {
        "id": "DiqAInxfhQ70",
        "colab": {
          "base_uri": "https://localhost:8080/"
        },
        "outputId": "ffd38694-90cf-4bc0-c463-30f75e47a9b1"
      },
      "source": [
        "# Pre-processing the article by using methods about string.\n",
        "article_preprocessed = article.replace(\",\", \"\")\n",
        "article_preprocessed = article_preprocessed.replace(\".\", \"\") # PLEASE MODIFY: replace \".\" by \"\"\n",
        "article_preprocessed = article_preprocessed.replace(\"\\n\", \" \") # PLEASE MODIFY: replace \"\\n\" by \" \"\n",
        "article_preprocessed = article_preprocessed.lower()\n",
        "\n",
        "# You should get a line of string that only contains lower-case English words\n",
        "# and white spaces.\n",
        "print(article_preprocessed)"
      ],
      "execution_count": null,
      "outputs": [
        {
          "output_type": "stream",
          "text": [
            "call me ishmael some years ago never mind how long precisely having little or no money in my purse and nothing particular to interest me on shore i thought i would sail about a little and see the watery part of the world it is a way i have of driving off the spleen and regulating the circulation whenever i find myself growing grim about the mouth whenever it is a damp drizzly november in my soul whenever i find myself involuntarily pausing before coffin warehouses and bringing up the rear of every funeral i meet and especially whenever my hypos get such an upper hand of me that it requires a strong moral principle to prevent me from deliberately stepping into the street and methodically knocking hats of people off then i account it high time to get to sea as soon as i can this is my substitute for pistol and ball with a philosophical flourish cato throws himself upon his sword i quietly take to the ship there is nothing surprising in this if they but knew it almost all men in their degree some time or other cherish very nearly the same feelings towards the ocean with me there now is your insular city of the manhattoes belted round by wharves as indian isles by coral reefs commerce surrounds it with her surf right and left the streets take you waterward its extreme downtown is the battery where that noble mole is washed by waves and cooled by breezes which a few hours previous were out of sight of land look at the crowds of water-gazers there\n"
          ],
          "name": "stdout"
        }
      ]
    },
    {
      "cell_type": "code",
      "metadata": {
        "id": "ZZ0xFvdxme2r"
      },
      "source": [
        "words = article_preprocessed.split(\" \")\n",
        "\n",
        "# Count the word frequencies by constructing a dict that key is word, value is\n",
        "# the word's frequency.\n",
        "word_freq = {}\n",
        "\n",
        "for word in words:\n",
        "    if word not in word_freq:\n",
        "        word_freq[word] = 1\n",
        "        pass\n",
        "    else:\n",
        "        word_freq[word] += 1\n",
        "        # PLEASE MODIFY CODE BELOW\n",
        "        pass"
      ],
      "execution_count": null,
      "outputs": []
    },
    {
      "cell_type": "code",
      "metadata": {
        "id": "SJj837SpqUYS"
      },
      "source": [
        "# Now, we want to get the most frequent word and its count.\n",
        "most_freq_word = \"\"\n",
        "most_freq_num = 0\n",
        "for word, freq in word_freq.items():\n",
        "    if freq > most_freq_num:\n",
        "        most_freq_num = freq\n",
        "        most_freq_word = word\n",
        "        # PLEASE MODIFY CODE BELOW\n",
        "        pass"
      ],
      "execution_count": null,
      "outputs": []
    },
    {
      "cell_type": "code",
      "metadata": {
        "id": "-1HisowkrS9E",
        "colab": {
          "base_uri": "https://localhost:8080/"
        },
        "outputId": "2828a726-5595-4986-bf77-126a7f6f929d"
      },
      "source": [
        "print(\"Most Frequent Word =\", most_freq_word) # Expected output: \"the\"\n",
        "print(\"Count for Most Frequent Word =\", most_freq_num) # Expected output: 14"
      ],
      "execution_count": null,
      "outputs": [
        {
          "output_type": "stream",
          "text": [
            "Most Frequent Word = the\n",
            "Count for Most Frequent Word = 14\n"
          ],
          "name": "stdout"
        }
      ]
    },
    {
      "cell_type": "code",
      "metadata": {
        "id": "OdSuQrUvqZnn"
      },
      "source": [
        "# Get the frequency count of \"nothing\".\n",
        "nothing_freq = word_freq[\"nothing\"] # PLEASE MODIFY"
      ],
      "execution_count": null,
      "outputs": []
    },
    {
      "cell_type": "code",
      "metadata": {
        "id": "yPAUiY-KtQ5q",
        "colab": {
          "base_uri": "https://localhost:8080/"
        },
        "outputId": "386d3b9b-08d6-4a12-84bb-4f75fa9cc9af"
      },
      "source": [
        "print(\"Frequency of \\\"nothing\\\" =\", nothing_freq) # Expected output: 2"
      ],
      "execution_count": null,
      "outputs": [
        {
          "output_type": "stream",
          "text": [
            "Frequency of \"nothing\" = 2\n"
          ],
          "name": "stdout"
        }
      ]
    },
    {
      "cell_type": "code",
      "metadata": {
        "id": "8fpAyWrQuBap"
      },
      "source": [
        "# Find words whose frequency is 5 and put the words into the list.\n",
        "freq_five_words = []\n",
        "for word, freq in word_freq.items():\n",
        "    if (freq == 5) :\n",
        "        freq_five_words += [word]\n",
        "    # PLEASE MODIFY CODE BELOW\n",
        "    pass"
      ],
      "execution_count": null,
      "outputs": []
    },
    {
      "cell_type": "code",
      "metadata": {
        "id": "bO3Ri8vivV25",
        "colab": {
          "base_uri": "https://localhost:8080/"
        },
        "outputId": "6830c869-3089-4477-d2f2-437378bbd5da"
      },
      "source": [
        "print(\"Words whose Frequencies is 5 =\", freq_five_words) # Expected output: [\"me\", \"to\"]"
      ],
      "execution_count": null,
      "outputs": [
        {
          "output_type": "stream",
          "text": [
            "Words whose Frequencies is 5 = ['me', 'to']\n"
          ],
          "name": "stdout"
        }
      ]
    },
    {
      "cell_type": "markdown",
      "metadata": {
        "id": "j5ZOutjhzy0E"
      },
      "source": [
        "## 練習題（四）：PUI PUI 天竺鼠車車\n",
        "\n",
        "![](https://pbs.twimg.com/media/ErXPkNeVcAE4tOs?format=jpg&name=medium)\n",
        "\n",
        "([圖片來源](https://twitter.com/molcar_anime/status/1348223064723628033/photo/1))\n",
        "\n",
        "[《PUI PUI 天竺鼠車車》](https://en.wikipedia.org/wiki/Pui_Pui_Molcar)是日本原創電視定格動畫，在 2021 年於日本電視台播映。「天竺鼠車車」是以天竺鼠為原型的車輛，並且在這部動畫中擔任主要的角色。\n",
        "\n",
        "我們透過了各種管道，終於從製作團隊取得了劇情中各種車車的角色資料。只是取得資料後，才發現資料為 csv（comma-separated values）格式，我們必須對資料（變數名稱為 `raw_data`）做處理，並且取得以下我們有興趣的資訊：\n",
        "- 所有主要角色的名字？（`main_characters`）\n",
        "- 有哪些角色的顏色為棕色？（`brown_characters`）\n",
        "- 有哪些角色的體重超過（含） 1800 公斤？（`heavy_characters`）\n",
        "- \"POTATO\" 的體積是否比 \"CHOCE\" 還大？（`potato_larger_choco`）\n",
        "    - 體積計算方式：車體寬度 * 車體長度 * 車體高度\n",
        "\n",
        "`raw_data` 各個欄位的意義如下：\n",
        "- `name`：名字\n",
        "- `is_main`:是否為主要角色，*1* 代表是，*0* 代表不是\n",
        "- `color`：顏色\n",
        "- `width`：車體寬度（公分）\n",
        "- `length`：車體長度（公分）\n",
        "- `height`：車體高度（公分）\n",
        "- `weight`：體重（公斤）\n",
        "\n",
        "**請試著用寫程式的方式得到答案，而不是直接看資料填答案！**\n"
      ]
    },
    {
      "cell_type": "code",
      "metadata": {
        "id": "hXA55HclBwjI",
        "colab": {
          "base_uri": "https://localhost:8080/"
        },
        "outputId": "068392a5-dd96-44b9-b93e-6d04d4ea7d81"
      },
      "source": [
        "raw_data = \\\n",
        "    \"name,is_main,color,width,length,height,weight\\n\" \\\n",
        "    \"POTATO,1,yellow,173,379,144,1500\\n\" \\\n",
        "    \"SHIROMO,1,white,149,359,177,1236\\n\" \\\n",
        "    \"ABBEY,1,yellow,136,343,182,1329\\n\" \\\n",
        "    \"CHOCO,1,brown,169,305,171,1725\\n\" \\\n",
        "    \"TEDDY,1,brown,147,371,210,1640\\n\" \\\n",
        "    \"POSTAL,0,red,165,370,251,1926\\n\" \\\n",
        "    \"HAMBER,0,yellow,136,353,247,1648\\n\" \\\n",
        "    \"ADVENTURE,0,brown,175,308,133,1588\\n\" \\\n",
        "    \"WEDDING,0,white,176,304,216,1893\\n\"\n",
        "print(raw_data)\n",
        "raw_data = raw_data.replace(\",\",\" \")\n",
        "raw_data = raw_data.replace(\"\\\"\",\"\")\n",
        "raw_data = raw_data.split(\"\\n\")\n",
        "data = {}\n",
        "data_list = []\n",
        "first_row = raw_data[0].split(\" \")\n",
        "data[first_row[1]] = 1\n",
        "\n",
        "#data[raw_data[0].split(\",\")]\n",
        "print(raw_data[1])\n",
        "#print(raw_data[1].split(\",\")[0])"
      ],
      "execution_count": 62,
      "outputs": [
        {
          "output_type": "stream",
          "text": [
            "name,is_main,color,width,length,height,weight\n",
            "POTATO,1,yellow,173,379,144,1500\n",
            "SHIROMO,1,white,149,359,177,1236\n",
            "ABBEY,1,yellow,136,343,182,1329\n",
            "CHOCO,1,brown,169,305,171,1725\n",
            "TEDDY,1,brown,147,371,210,1640\n",
            "POSTAL,0,red,165,370,251,1926\n",
            "HAMBER,0,yellow,136,353,247,1648\n",
            "ADVENTURE,0,brown,175,308,133,1588\n",
            "WEDDING,0,white,176,304,216,1893\n",
            "\n",
            "POTATO 1 yellow 173 379 144 1500\n"
          ],
          "name": "stdout"
        }
      ]
    },
    {
      "cell_type": "code",
      "metadata": {
        "id": "aQtcsI2o9qb7",
        "colab": {
          "base_uri": "https://localhost:8080/"
        },
        "outputId": "1d80a0a4-319b-451a-f7bf-ec6a743b762a"
      },
      "source": [
        "import pandas as pd\n",
        "import csv \n",
        "# PLEASE MODIFY CODE BELOW\n",
        "reader = csv.reader(raw_data)\n",
        "print(reader)\n",
        "data = {}\n",
        "for raw in reader:\n",
        "      data[row[0]] = {\"is_main\":row[0]}\n",
        "#for row in reader:\n",
        "#    for column, value in row.items():  # consider .iteritems() for Python 2\n",
        "#        data.setdefault(column, []).append(value)\n",
        "print(data)\n",
        "main_characters = []\n",
        "brown_characters = []\n",
        "heavy_characters = []\n",
        "potato_larger_choco = True"
      ],
      "execution_count": null,
      "outputs": [
        {
          "output_type": "stream",
          "text": [
            "<_csv.reader object at 0x7efc9f1b4b50>\n",
            "{'n': {'is_main': 'n'}}\n"
          ],
          "name": "stdout"
        }
      ]
    },
    {
      "cell_type": "code",
      "metadata": {
        "id": "lkxr9mfj-FtH"
      },
      "source": [
        "print(\"Main Characters =\", main_characters) # Expected output: [\"POTATO\", \"SHIROMO\", \"ABBEY\", \"CHOCO\", \"TEDDY\"]\n",
        "print(\"Brown Characters =\", brown_characters) # Expected output: [\"CHOCO\", \"TEDDY\", \"ADVENTURE\"]\n",
        "print(\"Heavy Characters =\", heavy_characters) # Expected output: [\"POSTAL\", \"WEDDING\"]\n",
        "print(\"Is POTATO Larger than CHOCO?\", potato_larger_choco) # Expected output: True"
      ],
      "execution_count": null,
      "outputs": []
    }
  ]
}